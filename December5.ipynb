{
 "cells": [
  {
   "cell_type": "code",
   "execution_count": null,
   "metadata": {},
   "outputs": [],
   "source": [
    "import pandas as pd\n",
    "import numpy as np\n",
    "import re"
   ]
  },
  {
   "cell_type": "code",
   "execution_count": null,
   "metadata": {},
   "outputs": [],
   "source": [
    "test_file='Deceber5_test1.txt'\n",
    "full_input='December5_input.csv'"
   ]
  },
  {
   "cell_type": "code",
   "execution_count": null,
   "metadata": {},
   "outputs": [],
   "source": [
    "with open(full_input) as file :\n",
    "    temp_names=[]\n",
    "    doc=[]\n",
    "    for line in file.readlines():\n",
    "        content=[]\n",
    "        if ':' in line :\n",
    "            temp_names.append(line.strip())\n",
    "        elif line !=re.compile('\\n') : \n",
    "            content.append(line.strip())\n",
    "            doc.append(content)\n",
    "\n",
    "print(doc)\n",
    "    "
   ]
  },
  {
   "cell_type": "code",
   "execution_count": null,
   "metadata": {},
   "outputs": [],
   "source": [
    "full_doc=[]\n",
    "for i,x in enumerate(doc):\n",
    "    if x==['']:\n",
    "        full_doc.append([])\n",
    "    else:\n",
    "        full_doc[-1].append(x)\n"
   ]
  },
  {
   "cell_type": "code",
   "execution_count": null,
   "metadata": {},
   "outputs": [],
   "source": [
    "list_of_seeds=temp_names[0]\n",
    "list_of_seeds=[int(x) for x in re.sub('seeds:','',list_of_seeds).split()]\n",
    "\n",
    "\n",
    "\n",
    "for i,x in enumerate(temp_names) :\n",
    "    temp_names[i]=x.strip(' map:') \n",
    "\n",
    "table_names=temp_names[1:]\n"
   ]
  },
  {
   "cell_type": "code",
   "execution_count": null,
   "metadata": {},
   "outputs": [],
   "source": [
    "for i,x in enumerate(full_doc):\n",
    "    for j in range(len(x)):\n",
    "        full_doc[i][j]=[int(a) for a in full_doc[i][j][0].split()]\n"
   ]
  },
  {
   "cell_type": "code",
   "execution_count": null,
   "metadata": {},
   "outputs": [],
   "source": [
    "def which_table_number(source,destination):\n",
    "    for x in table_names:\n",
    "        if x.find(source)!=-1 and x.find(destination)!=-1 :\n",
    "            return table_names.index(x)\n",
    "    raise IndexError('No table exists')\n"
   ]
  },
  {
   "cell_type": "code",
   "execution_count": null,
   "metadata": {},
   "outputs": [],
   "source": [
    "def match_inside_table(number,table):\n",
    "    for info in table :\n",
    "        if number> info[1] and number<info[1]+info[2] :\n",
    "            return info[0]+number - info[1]\n",
    "    return number\n",
    "\n",
    "def whole_path(number, full_tables):\n",
    "    if len(full_tables)==0:\n",
    "        return number\n",
    "    else :\n",
    "        return whole_path(match_inside_table(number,full_tables[0]),full_tables[1:])\n",
    "    "
   ]
  },
  {
   "cell_type": "code",
   "execution_count": null,
   "metadata": {},
   "outputs": [],
   "source": [
    "def whole_path_bis(number,full_tables):\n",
    "    x=number\n",
    "    i=0\n",
    "    while i < len(full_tables):\n",
    "        x=match_inside_table(x,full_tables[i])\n",
    "        i+=1\n",
    "    return x"
   ]
  },
  {
   "cell_type": "markdown",
   "metadata": {},
   "source": [
    "Answer to part 1"
   ]
  },
  {
   "cell_type": "code",
   "execution_count": null,
   "metadata": {},
   "outputs": [],
   "source": [
    "C=[]\n",
    "for y in list_of_seeds:\n",
    "    C.append(whole_path_bis(y,full_doc))\n",
    "\n",
    "print(min(C))"
   ]
  },
  {
   "cell_type": "code",
   "execution_count": null,
   "metadata": {},
   "outputs": [],
   "source": [
    "A=[]\n",
    "for x in list_of_seeds:\n",
    "    A.append(whole_path(x,full_doc))\n",
    "\n",
    "print(min(A))\n"
   ]
  },
  {
   "cell_type": "code",
   "execution_count": null,
   "metadata": {},
   "outputs": [],
   "source": [
    "for x in range(list_of_seeds[0],list_of_seeds[0]+list_of_seeds[1]):\n",
    "    if whole_path_bis(x,full_doc) < B:\n",
    "        B=whole_path_bis(x,full_doc)\n",
    "\n",
    "for x in range(list_of_seeds[2],list_of_seeds[2]+list_of_seeds[3]):\n",
    "    if whole_path_bis(x,full_doc) < B:\n",
    "        B=whole_path_bis(x,full_doc)\n",
    "\n",
    "print(B)"
   ]
  }
 ],
 "metadata": {
  "kernelspec": {
   "display_name": "Python 3",
   "language": "python",
   "name": "python3"
  },
  "language_info": {
   "codemirror_mode": {
    "name": "ipython",
    "version": 3
   },
   "file_extension": ".py",
   "mimetype": "text/x-python",
   "name": "python",
   "nbconvert_exporter": "python",
   "pygments_lexer": "ipython3",
   "version": "3.9.0"
  }
 },
 "nbformat": 4,
 "nbformat_minor": 2
}
