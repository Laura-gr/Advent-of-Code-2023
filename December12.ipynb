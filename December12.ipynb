{
 "cells": [
  {
   "cell_type": "code",
   "execution_count": 1,
   "metadata": {},
   "outputs": [],
   "source": [
    "import re\n",
    "import numpy as np"
   ]
  },
  {
   "cell_type": "code",
   "execution_count": 2,
   "metadata": {},
   "outputs": [],
   "source": [
    "test_input='December12_test_input.txt'\n",
    "with open(test_input) as f :\n",
    "    file=f.readlines()\n",
    "    doc=[[x.split()[0], [int(s) for s in re.findall(r'\\d+',x)]] for x in file]"
   ]
  },
  {
   "cell_type": "code",
   "execution_count": 3,
   "metadata": {},
   "outputs": [],
   "source": [
    "test1='????.#...#...'\n",
    "test2='????.#...#...'"
   ]
  },
  {
   "cell_type": "code",
   "execution_count": 4,
   "metadata": {},
   "outputs": [],
   "source": [
    "\n",
    "#### Remove . (dots) on left and right of string\n",
    "\n",
    "def simplify_dots(line,indication):\n",
    "    line=line.strip('.')\n",
    "    return line, indication\n",
    "\n",
    "\n",
    "#### Function to verify if first/last indication is fulfilled\n",
    "##### we use it on a simplified version of the line (i.e. stripped from the dots).\n",
    "\n",
    "def simplify_left_correct(line,indication):\n",
    "    if indication== []:\n",
    "        return '.'*len(line),indication\n",
    "    \n",
    "    line,indication=simplify_dots(line,indication)\n",
    "    \n",
    "    if line[:indication[0]]=='#'*indication[0]:\n",
    "        return line[indication[0]+1:], indication[1:]\n",
    "    else:\n",
    "        return line,indication\n",
    "\n",
    "def simplify_right_correct(line,indication):\n",
    "    if indication== []:\n",
    "        return '.'*len(line),indication\n",
    "    \n",
    "    line,indication=simplify_dots(line,indication)\n",
    "    \n",
    "    if line[-indication[-1]:]=='#'*indication[-1]:\n",
    "        \n",
    "        return line[:-indication[-1]], indication[:-1]\n",
    "    \n",
    "    else:\n",
    "        return line, indication\n",
    "\n",
    "\n",
    "def simplify_both_correct(line,indication):\n",
    "    if indication== []:\n",
    "        return '.'*len(line) ,indication\n",
    "    line,indication=simplify_dots(line,indication)\n",
    "    c=1\n",
    "    while c!=0:\n",
    "        l=len(line)\n",
    "        line,indication=simplify_left_correct(line,indication)\n",
    "        line,indication=simplify_right_correct(line,indication)\n",
    "        c=abs(l-len(line))\n",
    "    \n",
    "    return line,indication\n",
    "\n",
    "#### Function to find if longest indication is already in the string\n",
    "\n",
    "def simplify_if_longest(line,indication):\n",
    "\n",
    "    string_to_test='#'*max(indication)\n",
    "    \n",
    "    a=1\n",
    "    while a!=0:\n",
    "        l=len(line)\n",
    "        line, indication = simplify_both_correct(line,indication)\n",
    "        a=abs(l-len(line))\n",
    "\n",
    "    spans_of_pattern=re.finditer(string_to_test,line)\n",
    "\n",
    "    if string_to_test in line :\n",
    "        c=0\n",
    "        for x in spans_of_pattern:\n",
    "            \n",
    "            start_pattern=x.span()[0]\n",
    "            end_pattern=x.span()[1]\n",
    "\n",
    "            fin_gauche=start_pattern-1-c*(len(string_to_test)+1)\n",
    "            debut_droite=end_pattern+1-c*(len(string_to_test)+1)\n",
    "\n",
    "            line=line[0:fin_gauche]+'.'+ line[debut_droite:]\n",
    "            c+=1\n",
    "            index_max=indication.index(max(indication))\n",
    "\n",
    "            del indication[index_max]\n",
    "        \n",
    "    return simplify_both_correct(line,indication)\n",
    "    \n",
    "#### Obvious left-right completion when boundaries are # and then #,?\n",
    "\n",
    "def obvious_left_completion(line,indication):\n",
    "    line,indication=simplify_if_longest(line,indication)\n",
    "\n",
    "    if set(line[:indication[0]])=={'#','?'} and line[0]=='#' :\n",
    "        return line[indication[0]+1:],indication[1:]\n",
    "    else:\n",
    "        return line, indication\n",
    "\n",
    "def obvious_right_completion(line,indication):\n",
    "    line, indication = simplify_if_longest(line,indication)\n",
    "\n",
    "    if set(line[-indication[-1]:])=={'#','?'} and line[-1]=='#' :\n",
    "        return line[:-indication[-1]], indication[:-1]\n",
    "    \n",
    "    else:\n",
    "        return line, indication\n",
    "\n",
    "def obvious_both_sides_completion(line,indication):\n",
    "    if line=='':\n",
    "        return line, indication\n",
    "    line,indication =simplify_if_longest(line,indication)\n",
    "    if indication== []:\n",
    "        return '.'*len(line) , indication\n",
    "    c=1\n",
    "    while c!=0:\n",
    "        l=len(line)\n",
    "        line,indication = obvious_right_completion(line,indication)\n",
    "        line,indication = obvious_left_completion(line,indication)\n",
    "        c=abs(l-len(line))\n",
    "    return line,indication\n",
    "\n",
    "    \n",
    "\n",
    "##### Solver for obvious lines \n",
    "def solve_line_if_obvious(line,indication):\n",
    "    if line=='' or indication==[]:\n",
    "        return line, indication\n",
    "    sum_of_indications =np.sum(indication)\n",
    "    number_dots_necessary=len(indication)-1\n",
    "\n",
    "    solved_line=''\n",
    "    \n",
    "    if sum_of_indications + number_dots_necessary == len(line):\n",
    "        for x in indication[:-1]:\n",
    "            solved_line=solved_line+'#'*x+'.'\n",
    "\n",
    "        solved_line=solved_line+'#'*indication[-1]\n",
    "        return solved_line, indication\n",
    "        \n",
    "    if line.count('#')==sum_of_indications:\n",
    "        return re.sub('?','.',line),indication\n",
    "\n",
    "    return line,indication\n",
    "    "
   ]
  },
  {
   "cell_type": "code",
   "execution_count": 5,
   "metadata": {},
   "outputs": [],
   "source": [
    "##### All the simplifications above.\n",
    "\n",
    "def mega_simplifier(line,indication):\n",
    "    \n",
    "    new_line, new_indic = simplify_both_correct(line, indication)\n",
    "    new_line,new_indic = obvious_both_sides_completion(new_line,new_indic)\n",
    "    new_line,new_indic = solve_line_if_obvious(new_line,new_indic)\n",
    "    \n",
    "    temp_input=[(line,indication),(new_line,new_indic)]\n",
    "\n",
    "    while temp_input[-2]!=temp_input[-1]:\n",
    "        new_line,new_indic= solve_line_if_obvious(temp_input[-1][0],temp_input[-1][1])\n",
    "        new_line, new_indic = obvious_both_sides_completion(new_line, new_indic)\n",
    "        new_line, new_indic = simplify_both_correct(new_line, new_indic)\n",
    "\n",
    "        temp_input.append((new_line,new_indic))\n",
    "    return new_line,new_indic\n",
    "    \n",
    "\n",
    "\n",
    "        \n"
   ]
  },
  {
   "cell_type": "code",
   "execution_count": 6,
   "metadata": {},
   "outputs": [
    {
     "data": {
      "text/plain": [
       "[['???.###', [1, 1, 3]],\n",
       " ['.??..??...?##.', [1, 1, 3]],\n",
       " ['?#?#?#?#?#?#?#?', [1, 3, 1, 6]],\n",
       " ['????.#...#...', [4, 1, 1]],\n",
       " ['????.######..#####.', [1, 6, 5]],\n",
       " ['?###????????', [3, 2, 1]]]"
      ]
     },
     "execution_count": 6,
     "metadata": {},
     "output_type": "execute_result"
    }
   ],
   "source": [
    "doc"
   ]
  },
  {
   "cell_type": "code",
   "execution_count": 7,
   "metadata": {},
   "outputs": [
    {
     "name": "stdout",
     "output_type": "stream",
     "text": [
      "['???.###', [1, 1, 3]]\n",
      " [] \n",
      "\n",
      "['.??..??...?##.', [1, 1, 3]]\n",
      "??..?? [1, 1] \n",
      "\n",
      "['?#?#?#?#?#?#?#?', [1, 3, 1, 6]]\n",
      "?#?#?#?#?#?#?#? [1, 3, 1, 6] \n",
      "\n",
      "['????.#...#...', [4, 1, 1]]\n",
      " [] \n",
      "\n",
      "['????.######..#####.', [1, 6, 5]]\n",
      "???? [1] \n",
      "\n",
      "['?###????????', [3, 2, 1]]\n",
      "??????? [2, 1] \n",
      "\n"
     ]
    }
   ],
   "source": [
    "### Seeing the whole procedure built\n",
    "\n",
    "for k, x in enumerate(doc):\n",
    "    print(x)\n",
    "    line=doc[k][0]\n",
    "    indications=doc[k][1]\n",
    "    new_new_line, new_new_indications = mega_simplifier(line,indications)\n",
    "\n",
    "    print(new_new_line,new_new_indications,'\\n')\n",
    "    "
   ]
  },
  {
   "cell_type": "code",
   "execution_count": 8,
   "metadata": {},
   "outputs": [
    {
     "data": {
      "text/plain": [
       "[['???.###', [1, 1, 3]],\n",
       " ['.??..??...?##.', [1, 1, 3]],\n",
       " ['?#?#?#?#?#?#?#?', [1, 3, 1, 6]],\n",
       " ['????.#...#...', [4, 1, 1]],\n",
       " ['????.######..#####.', [1, 6, 5]],\n",
       " ['?###????????', [2, 1]]]"
      ]
     },
     "execution_count": 8,
     "metadata": {},
     "output_type": "execute_result"
    }
   ],
   "source": [
    "doc"
   ]
  },
  {
   "cell_type": "code",
   "execution_count": 9,
   "metadata": {},
   "outputs": [
    {
     "data": {
      "text/plain": [
       "('', [])"
      ]
     },
     "execution_count": 9,
     "metadata": {},
     "output_type": "execute_result"
    }
   ],
   "source": [
    "mega_simplifier('???.###', [1, 1, 3])"
   ]
  },
  {
   "cell_type": "code",
   "execution_count": 10,
   "metadata": {},
   "outputs": [
    {
     "data": {
      "text/plain": [
       "('??..??', [1, 1])"
      ]
     },
     "execution_count": 10,
     "metadata": {},
     "output_type": "execute_result"
    }
   ],
   "source": [
    "mega_simplifier('.??..??...?##.', [1, 1, 3])"
   ]
  }
 ],
 "metadata": {
  "kernelspec": {
   "display_name": "Python 3",
   "language": "python",
   "name": "python3"
  },
  "language_info": {
   "codemirror_mode": {
    "name": "ipython",
    "version": 3
   },
   "file_extension": ".py",
   "mimetype": "text/x-python",
   "name": "python",
   "nbconvert_exporter": "python",
   "pygments_lexer": "ipython3",
   "version": "3.12.0"
  }
 },
 "nbformat": 4,
 "nbformat_minor": 2
}
