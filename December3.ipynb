{
 "cells": [
  {
   "cell_type": "code",
   "execution_count": 24,
   "metadata": {},
   "outputs": [],
   "source": [
    "import pandas as pd\n",
    "import numpy as np\n",
    "import re"
   ]
  },
  {
   "cell_type": "code",
   "execution_count": 25,
   "metadata": {},
   "outputs": [],
   "source": [
    "full_doc='December3_input1.txt'\n",
    "test_doc='December3_test2.txt'\n",
    "file=np.loadtxt(full_doc,dtype=str,comments=None)\n",
    "\n",
    "doc=[]\n",
    "for x in file :\n",
    "    doc.append(str(x))\n"
   ]
  },
  {
   "cell_type": "code",
   "execution_count": 26,
   "metadata": {},
   "outputs": [],
   "source": [
    "def give_coordinates_number(doc):\n",
    "    L=[]\n",
    "    for x in doc :\n",
    "        test=[(y.group(0),y.span()) for y in re.finditer('\\d+', x)]\n",
    "        L.append(test)\n",
    "    return L"
   ]
  },
  {
   "cell_type": "code",
   "execution_count": 27,
   "metadata": {},
   "outputs": [],
   "source": [
    "def give_coordinates_symbol(doc):\n",
    "    L=[]\n",
    "    for x in doc :\n",
    "        pos=[]\n",
    "        for coord, char in enumerate(x):\n",
    "            #print(coord,char)\n",
    "            if char !='.' and char not in '0123456789':\n",
    "                pos.append((coord,char))\n",
    "        L.append(pos)\n",
    "    return L"
   ]
  },
  {
   "cell_type": "code",
   "execution_count": 28,
   "metadata": {},
   "outputs": [],
   "source": [
    "max_x=len(doc)\n",
    "max_y=len(doc[0])\n",
    "\n",
    "def adjacent_to_coord(coord,doc):\n",
    "    p=coord[0]\n",
    "    q=coord[1]\n",
    "    h_max=len(doc)\n",
    "    l_max=len(doc[0])\n",
    "    if p > l_max-1 or q > h_max-1 or p<0 or q <0 :\n",
    "        raise IndexError('Coordinates are not possible')\n",
    "    res=[]\n",
    "    possible=[(p-1,q-1),(p-1,q),(p-1,q+1),(p,q-1),(p,q+1),(p+1,q-1),(p+1,q),(p+1,q+1)]\n",
    "    \n",
    "    for x in possible :\n",
    "        if x[0] in range(h_max) and x[1] in range(l_max) :\n",
    "            res.append(x)\n",
    "    return res\n"
   ]
  },
  {
   "cell_type": "code",
   "execution_count": 29,
   "metadata": {},
   "outputs": [],
   "source": [
    "def test_symbol(coord,doc):\n",
    "    if doc[coord[0]][coord[1]] != '.' and doc[coord[0]][coord[1]] not in '0123456789':\n",
    "        return True\n",
    "    else:\n",
    "        return False\n",
    "    \n",
    "def test_adjacent_to_symbol(coord,doc):\n",
    "    val=False\n",
    "    for x in adjacent_to_coord(coord,doc):\n",
    "        if test_symbol(x,doc):\n",
    "            return True\n",
    "    return False\n"
   ]
  },
  {
   "cell_type": "markdown",
   "metadata": {},
   "source": [
    "Answer to part 1"
   ]
  },
  {
   "cell_type": "code",
   "execution_count": 30,
   "metadata": {},
   "outputs": [
    {
     "name": "stdout",
     "output_type": "stream",
     "text": [
      "519444\n"
     ]
    }
   ],
   "source": [
    "L=[]\n",
    "for line_number, content in enumerate(give_coordinates_number(doc)):\n",
    "    for number in content :\n",
    "        test=False\n",
    "        for x in range(number[1][0],number[1][1]):\n",
    "            if test_adjacent_to_symbol((line_number,x),doc) and not test:\n",
    "                L.append(int(number[0]))\n",
    "                test=True\n",
    "        \n",
    "s=0\n",
    "for x in L :\n",
    "    s+=x\n",
    "print(s)\n"
   ]
  },
  {
   "cell_type": "markdown",
   "metadata": {},
   "source": [
    "Part 2 "
   ]
  },
  {
   "cell_type": "code",
   "execution_count": 31,
   "metadata": {},
   "outputs": [],
   "source": [
    "def give_coordinates_star(doc):\n",
    "    L=[]\n",
    "    for x in doc :\n",
    "        pos=[]\n",
    "        for coord, char in enumerate(x):\n",
    "            #print(coord,char)\n",
    "            if char == '*':\n",
    "                pos.append((coord,char))\n",
    "        L.append(pos)\n",
    "    return L"
   ]
  },
  {
   "cell_type": "code",
   "execution_count": 32,
   "metadata": {},
   "outputs": [],
   "source": [
    "def test_star(coord,doc):\n",
    "    if doc[coord[0]][coord[1]] =='*':\n",
    "        return True\n",
    "    else:\n",
    "        return False\n",
    "    \n",
    "def test_adjacent_to_star(coord,doc):\n",
    "    val=False\n",
    "    for x in adjacent_to_coord(coord,doc):\n",
    "        if test_star(x,doc):\n",
    "            return True\n",
    "    return False\n",
    "\n",
    "def adjacent_stars(coord,doc):\n",
    "    L=[]\n",
    "    for x in adjacent_to_coord(coord,doc):\n",
    "        if test_star(x,doc):\n",
    "            L.append(x)\n",
    "    return L\n"
   ]
  },
  {
   "cell_type": "code",
   "execution_count": 33,
   "metadata": {},
   "outputs": [],
   "source": [
    "A=[]\n",
    "\n",
    "for line_number, content in enumerate(give_coordinates_number(doc)):\n",
    "    for number in content :\n",
    "        test=False\n",
    "        for x in range(number[1][0],number[1][1]):\n",
    "            adj_star=(adjacent_stars((line_number,x),doc),number[0])\n",
    "            if test_adjacent_to_star((line_number,x),doc) and adj_star not in A :\n",
    "                A.append(adj_star)\n"
   ]
  },
  {
   "cell_type": "code",
   "execution_count": 34,
   "metadata": {},
   "outputs": [
    {
     "name": "stdout",
     "output_type": "stream",
     "text": [
      "74528807\n"
     ]
    }
   ],
   "source": [
    "gears=0\n",
    "for i, x in enumerate(A) :\n",
    "    for y in A[i+1:] :\n",
    "        if x[0]==y[0] and x!=y:\n",
    "            #print('On fait le produit de '+ x[1] +' et ' +y[1])\n",
    "            gears += int(x[1])*int(y[1])\n",
    "\n",
    "print(gears)\n",
    "    "
   ]
  }
 ],
 "metadata": {
  "kernelspec": {
   "display_name": "Python 3",
   "language": "python",
   "name": "python3"
  },
  "language_info": {
   "codemirror_mode": {
    "name": "ipython",
    "version": 3
   },
   "file_extension": ".py",
   "mimetype": "text/x-python",
   "name": "python",
   "nbconvert_exporter": "python",
   "pygments_lexer": "ipython3",
   "version": "3.9.0"
  }
 },
 "nbformat": 4,
 "nbformat_minor": 2
}
