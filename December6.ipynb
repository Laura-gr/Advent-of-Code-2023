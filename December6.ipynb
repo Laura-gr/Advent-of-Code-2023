{
 "cells": [
  {
   "cell_type": "code",
   "execution_count": 89,
   "metadata": {},
   "outputs": [],
   "source": [
    "import numpy as np\n",
    "import re"
   ]
  },
  {
   "cell_type": "code",
   "execution_count": 90,
   "metadata": {},
   "outputs": [
    {
     "name": "stdout",
     "output_type": "stream",
     "text": [
      "[54, 81, 70, 88]\n",
      "[446, 1292, 1035, 1007]\n"
     ]
    }
   ],
   "source": [
    "input='December6_input.txt'\n",
    "\n",
    "with open(input) as file :\n",
    "    time, distance=file.read().split('\\n')\n",
    "    time=[int(x) for x in time.strip('Time:').split()]\n",
    "    distance=[int(x) for x in distance.strip('Distance:').split()]\n",
    "\n",
    "print(time)\n",
    "print(distance)"
   ]
  },
  {
   "cell_type": "code",
   "execution_count": 91,
   "metadata": {},
   "outputs": [],
   "source": [
    "def distance_travelled_hold(b,max_time):\n",
    "    if b < max_time :\n",
    "        return b*(max_time-b)\n",
    "    else :\n",
    "        return 0\n",
    "\n",
    "def length_winning_interval(max_time,record):\n",
    "    discr= max_time**2 - 4* record\n",
    "    s1= (-max_time - np.sqrt(discr))/(-2)\n",
    "    s2= (-max_time + np.sqrt(discr))/(-2)\n",
    "    return int(np.abs(np.floor(s2)-np.ceil(s1)+1))\n",
    "    "
   ]
  },
  {
   "cell_type": "markdown",
   "metadata": {},
   "source": [
    "Answer to part 1"
   ]
  },
  {
   "cell_type": "code",
   "execution_count": 94,
   "metadata": {},
   "outputs": [
    {
     "name": "stdout",
     "output_type": "stream",
     "text": [
      "2065338\n"
     ]
    }
   ],
   "source": [
    "L=[]\n",
    "for i in range(len(time)):\n",
    "    L.append(length_winning_interval(time[i],distance[i]))\n",
    "\n",
    "res=1\n",
    "for x in L :\n",
    "    res = res * x\n",
    "\n",
    "print(res)\n"
   ]
  },
  {
   "cell_type": "markdown",
   "metadata": {},
   "source": [
    "Answer to part 2 "
   ]
  },
  {
   "cell_type": "code",
   "execution_count": 93,
   "metadata": {},
   "outputs": [
    {
     "data": {
      "text/plain": [
       "34934171"
      ]
     },
     "execution_count": 93,
     "metadata": {},
     "output_type": "execute_result"
    }
   ],
   "source": [
    "time_str=''\n",
    "for x in time :\n",
    "    time_str+=str(x)\n",
    "\n",
    "dist_str=''\n",
    "for x in distance:\n",
    "    dist_str+=str(x)\n",
    "\n",
    "length_winning_interval(int(time_str),int(dist_str))"
   ]
  }
 ],
 "metadata": {
  "kernelspec": {
   "display_name": "Python 3",
   "language": "python",
   "name": "python3"
  },
  "language_info": {
   "codemirror_mode": {
    "name": "ipython",
    "version": 3
   },
   "file_extension": ".py",
   "mimetype": "text/x-python",
   "name": "python",
   "nbconvert_exporter": "python",
   "pygments_lexer": "ipython3",
   "version": "3.9.0"
  }
 },
 "nbformat": 4,
 "nbformat_minor": 2
}
