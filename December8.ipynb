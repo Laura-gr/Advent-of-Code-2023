{
 "cells": [
  {
   "cell_type": "code",
   "execution_count": 1,
   "metadata": {},
   "outputs": [],
   "source": [
    "import numpy as np"
   ]
  },
  {
   "cell_type": "code",
   "execution_count": 2,
   "metadata": {},
   "outputs": [],
   "source": [
    "test_input='December8_test.txt'\n",
    "test_input_2='December8_test2.txt'\n",
    "full_input='December8_full.txt'\n",
    "ghost_test='December8_ghost_test.txt'\n",
    "\n",
    "with open(full_input) as f :\n",
    "    directions,_, *nodes= f.readlines()\n",
    "\n",
    "    directions=directions.strip('\\n')\n",
    "\n",
    "    nodes_bis=[(x.strip('\\n').split('=')[0].strip(), x.strip('\\n').split('=')[1]) for x in nodes]\n",
    "\n",
    "    vertices=[(node[0], (node[1].split(',')[0].strip(' ('), node[1].split(',')[1].strip(') '))) for node in nodes_bis]\n",
    "    "
   ]
  },
  {
   "cell_type": "code",
   "execution_count": 3,
   "metadata": {},
   "outputs": [],
   "source": [
    "dict_graph={ x[0]: x[1] for x in vertices}\n",
    "\n",
    "def follow_directions(dir, vertices_as_dict,start='AAA',ending='ZZZ'):\n",
    "    end=start\n",
    "    count=0\n",
    "\n",
    "    while end!=ending or count==0:\n",
    "        for x in dir:\n",
    "            count+=1\n",
    "            if x=='L':\n",
    "                end=vertices_as_dict[end][0]\n",
    "                if end ==ending:\n",
    "                   break\n",
    "            else :\n",
    "                end=vertices_as_dict[end][1]\n",
    "                if end==ending:\n",
    "                   break\n",
    "    return end, count, count //len(dir), count % len(dir)\n"
   ]
  },
  {
   "cell_type": "markdown",
   "metadata": {},
   "source": [
    "Answer to part 1"
   ]
  },
  {
   "cell_type": "code",
   "execution_count": 4,
   "metadata": {},
   "outputs": [
    {
     "data": {
      "text/plain": [
       "('ZZZ', 19637, 73, 0)"
      ]
     },
     "execution_count": 4,
     "metadata": {},
     "output_type": "execute_result"
    }
   ],
   "source": [
    "follow_directions(directions,dict_graph)"
   ]
  },
  {
   "cell_type": "code",
   "execution_count": 5,
   "metadata": {},
   "outputs": [],
   "source": [
    "def possible_trajectories_ghost(start,dir,vertices_as_dict):\n",
    "    end=start\n",
    "    count=0\n",
    "    step=0\n",
    "    L=[]\n",
    "    l=len(dir)\n",
    "    while (end,step) not in L :\n",
    "        L.append((end,step))\n",
    "\n",
    "        if dir[step]=='L':\n",
    "            end=vertices_as_dict[end][0]\n",
    "        else :\n",
    "            end=vertices_as_dict[end][1]\n",
    "        count+=1\n",
    "        step = (step+1) % l \n",
    "    return L, len(L)-L.index((end, step))\n",
    "\n",
    "\n",
    "def interesting_end_vertices(start,dir,vertices_as_dict):\n",
    "    L, period = possible_trajectories_ghost(start, dir, vertices_as_dict)\n",
    "    res=[]\n",
    "    for index, item in enumerate(L):\n",
    "        if item[0][-1]=='Z':\n",
    "            res.append([item[0],index])\n",
    "    return res, len(L), period "
   ]
  },
  {
   "cell_type": "code",
   "execution_count": 6,
   "metadata": {},
   "outputs": [],
   "source": [
    "starts=[]\n",
    "for x in list(dict_graph.keys()):\n",
    "    if x[-1]=='A':\n",
    "        starts.append(x)\n",
    "\n",
    "info=[interesting_end_vertices(x,directions,dict_graph) for x in starts]\n",
    "\n",
    "positions=[]\n",
    "periods=[]\n",
    "for x in info :\n",
    "    positions.append(x[0][0][1])\n",
    "    periods.append(x[-1])\n",
    "\n"
   ]
  },
  {
   "cell_type": "markdown",
   "metadata": {},
   "source": [
    "Answer to part 2"
   ]
  },
  {
   "cell_type": "code",
   "execution_count": 14,
   "metadata": {},
   "outputs": [
    {
     "data": {
      "text/plain": [
       "8811050362409"
      ]
     },
     "execution_count": 14,
     "metadata": {},
     "output_type": "execute_result"
    }
   ],
   "source": [
    "np.lcm.reduce(periods,dtype=np.int64)\n"
   ]
  },
  {
   "cell_type": "code",
   "execution_count": null,
   "metadata": {},
   "outputs": [],
   "source": []
  }
 ],
 "metadata": {
  "kernelspec": {
   "display_name": "Python 3",
   "language": "python",
   "name": "python3"
  },
  "language_info": {
   "codemirror_mode": {
    "name": "ipython",
    "version": 3
   },
   "file_extension": ".py",
   "mimetype": "text/x-python",
   "name": "python",
   "nbconvert_exporter": "python",
   "pygments_lexer": "ipython3",
   "version": "3.12.0"
  }
 },
 "nbformat": 4,
 "nbformat_minor": 2
}
