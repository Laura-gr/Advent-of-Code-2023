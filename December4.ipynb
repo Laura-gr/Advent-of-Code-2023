{
 "cells": [
  {
   "cell_type": "code",
   "execution_count": 70,
   "metadata": {},
   "outputs": [],
   "source": [
    "import pandas as pd\n",
    "import numpy as np\n",
    "import re"
   ]
  },
  {
   "cell_type": "code",
   "execution_count": 71,
   "metadata": {},
   "outputs": [],
   "source": [
    "test_file ='December4_test1.txt'\n",
    "full_file='December4_input1.txt'\n",
    "\n",
    "\n",
    "with open(full_file) as file :\n",
    "    l=file.readlines()\n",
    "    doc=[re.sub('Card \\s+ \\d+:','',i).strip().split('|') for i in l]\n"
   ]
  },
  {
   "cell_type": "code",
   "execution_count": 72,
   "metadata": {},
   "outputs": [],
   "source": [
    "DF=pd.DataFrame(doc)\n",
    "winnining=DF[0].str.split(expand=False)\n",
    "mine=DF[1].str.split(expand=False)\n"
   ]
  },
  {
   "cell_type": "code",
   "execution_count": 73,
   "metadata": {},
   "outputs": [],
   "source": [
    "common=[]\n",
    "for i in range(len(doc)):\n",
    "    common.append(len(list(set(winnining[i]) & set(mine[i]))))\n",
    "\n",
    "points=[2**(y-1) if y!=0 else 0 for y in common]\n",
    "\n"
   ]
  },
  {
   "cell_type": "markdown",
   "metadata": {},
   "source": [
    "Answer to first problem"
   ]
  },
  {
   "cell_type": "code",
   "execution_count": 74,
   "metadata": {},
   "outputs": [
    {
     "data": {
      "text/plain": [
       "33950"
      ]
     },
     "execution_count": 74,
     "metadata": {},
     "output_type": "execute_result"
    }
   ],
   "source": [
    "np.sum(points)"
   ]
  },
  {
   "cell_type": "code",
   "execution_count": 75,
   "metadata": {},
   "outputs": [
    {
     "data": {
      "text/plain": [
       "14814534"
      ]
     },
     "execution_count": 75,
     "metadata": {},
     "output_type": "execute_result"
    }
   ],
   "source": [
    "number_of_cards=len(doc)\n",
    "start=dict(zip(range(number_of_cards),[1 for x in range(number_of_cards)]))\n",
    "\n",
    "for x in range(number_of_cards):   ## x serves as card number we are looking at\n",
    "    # print('We are looking at card '+ str(x))\n",
    "    num_winning_cards=common[x]\n",
    "    #print('This card gives me '+str(common[x])+'extra winning cards')\n",
    "    for y in range(x+1, x+num_winning_cards+1):\n",
    "        #print('We modify the number of possessed cards of type' +str(y))\n",
    "        start[y]+=start[x]\n",
    "\n",
    "s=0\n",
    "for x in start.values():\n",
    "    s+=x\n",
    "\n",
    "s"
   ]
  }
 ],
 "metadata": {
  "kernelspec": {
   "display_name": "Python 3",
   "language": "python",
   "name": "python3"
  },
  "language_info": {
   "codemirror_mode": {
    "name": "ipython",
    "version": 3
   },
   "file_extension": ".py",
   "mimetype": "text/x-python",
   "name": "python",
   "nbconvert_exporter": "python",
   "pygments_lexer": "ipython3",
   "version": "3.9.0"
  }
 },
 "nbformat": 4,
 "nbformat_minor": 2
}
