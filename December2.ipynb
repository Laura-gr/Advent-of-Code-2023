{
 "cells": [
  {
   "cell_type": "code",
   "execution_count": 29,
   "metadata": {},
   "outputs": [],
   "source": [
    "import pandas as pd \n",
    "import numpy as np\n",
    "import re\n",
    "\n",
    "data=pd.read_csv('December2_input.txt', sep=';', names=['First','Second', 'Third','Fourth','Fifth','Sixth'],index_col=False)\n"
   ]
  },
  {
   "cell_type": "code",
   "execution_count": 30,
   "metadata": {},
   "outputs": [],
   "source": [
    "data[['Game_id','First']]=data['First'].str.split(':',expand=True)\n",
    "data['Game_id']=data['Game_id'].str.strip('Game ')\n",
    "\n",
    "data.reset_index(inplace=True,drop=True)\n",
    "data.set_index('Game_id',inplace=True)\n"
   ]
  },
  {
   "cell_type": "code",
   "execution_count": 31,
   "metadata": {},
   "outputs": [],
   "source": [
    "data.fillna('0 green, 0 blue, 0 red', inplace=True)"
   ]
  },
  {
   "cell_type": "code",
   "execution_count": 32,
   "metadata": {},
   "outputs": [],
   "source": [
    "\n",
    "for x in range(100):\n",
    "    for y in range(6):\n",
    "        if 'red' not in data.iloc[x,y]:\n",
    "            data.iloc[x,y]=data.iloc[x,y]+', 0 red'\n",
    "        if 'blue' not in data.iloc[x,y]:\n",
    "            data.iloc[x,y]=data.iloc[x,y]+', 0 blue'\n",
    "        if 'green' not in data.iloc[x,y]:\n",
    "            data.iloc[x,y]=data.iloc[x,y]+', 0 green'\n",
    "\n"
   ]
  },
  {
   "cell_type": "markdown",
   "metadata": {},
   "source": [
    "Answer to part 1\n"
   ]
  },
  {
   "cell_type": "code",
   "execution_count": 33,
   "metadata": {},
   "outputs": [
    {
     "name": "stdout",
     "output_type": "stream",
     "text": [
      "2006\n"
     ]
    }
   ],
   "source": [
    "sum={'blue':0, 'green':0, 'red':0}\n",
    "limit={'blue':14,'green':13,'red':12}\n",
    "\n",
    "L=[]\n",
    "\n",
    "for x in range(data.shape[0]):\n",
    "    for y in range(data.shape[1]):\n",
    "        s=re.findall('[a-z]+',data.iloc[x,y])\n",
    "        t=[int(x) for x in re.findall('\\d+', data.iloc[x,y])]\n",
    "        d=dict(zip(s,t))\n",
    "        #print(x,y,d)\n",
    "        if d['red'] > limit['red'] or d['blue'] > limit['blue'] or d['green']>limit['green'] :\n",
    "                L.append((x+1))\n",
    "        \n",
    "\n",
    "L_unique=[]\n",
    "for x in L :\n",
    "    if x not in L_unique:\n",
    "        L_unique.append(x)\n",
    "\n",
    "res=0\n",
    "for i in range(101):\n",
    "    if i not in L_unique :\n",
    "        res+=i\n",
    "print(res)"
   ]
  },
  {
   "cell_type": "code",
   "execution_count": 34,
   "metadata": {},
   "outputs": [],
   "source": [
    "A=[]\n",
    "\n",
    "for x in range(data.shape[0]):\n",
    "    for y in range(data.shape[1]):\n",
    "        s=re.findall('[a-z]+',data.iloc[x,y])\n",
    "        t=[int(x) for x in re.findall('\\d+', data.iloc[x,y])]\n",
    "        d=dict(zip(s,t))\n",
    "        A.append(((x+1,y+1), d['red'],d['blue'],d['green']))\n",
    "    "
   ]
  },
  {
   "cell_type": "code",
   "execution_count": 35,
   "metadata": {},
   "outputs": [],
   "source": [
    "power_df=pd.DataFrame(A,dtype=str)\n",
    "\n",
    "power_df[['Game','try']]=power_df[0].str.strip('(').str.strip(')').str.split(',',expand=True)\n",
    "power_df['Game']=power_df['Game'].str.strip('(')\n",
    "#power_df['try']=power_df['try'].str.strip(')')\n",
    "power_df.drop(columns=[0],axis=1, inplace=True)\n",
    "\n",
    "power_df.reset_index(drop=True,inplace=True)\n",
    "power_df.set_index(['Game','try'],inplace=True)\n",
    "power_df.rename(columns={1:'red',2:'blue',3:'green'},inplace=True)\n",
    "power_df['red']=power_df['red'].astype(int)\n",
    "power_df['blue']=power_df['blue'].astype(int)\n",
    "power_df['green']=power_df['green'].astype(int)\n"
   ]
  },
  {
   "cell_type": "code",
   "execution_count": 36,
   "metadata": {},
   "outputs": [],
   "source": [
    "DF=power_df.groupby('Game').aggregate('max')\n"
   ]
  },
  {
   "cell_type": "markdown",
   "metadata": {},
   "source": [
    "Answer to part 2"
   ]
  },
  {
   "cell_type": "code",
   "execution_count": 37,
   "metadata": {},
   "outputs": [
    {
     "data": {
      "text/plain": [
       "84911"
      ]
     },
     "execution_count": 37,
     "metadata": {},
     "output_type": "execute_result"
    }
   ],
   "source": [
    "\n",
    "DF['power']=DF['red'].astype(int)*DF['blue'].astype(int)*DF['green'].astype(int)\n",
    "DF['power'].sum()"
   ]
  }
 ],
 "metadata": {
  "kernelspec": {
   "display_name": "Python 3",
   "language": "python",
   "name": "python3"
  },
  "language_info": {
   "codemirror_mode": {
    "name": "ipython",
    "version": 3
   },
   "file_extension": ".py",
   "mimetype": "text/x-python",
   "name": "python",
   "nbconvert_exporter": "python",
   "pygments_lexer": "ipython3",
   "version": "3.9.0"
  }
 },
 "nbformat": 4,
 "nbformat_minor": 2
}
