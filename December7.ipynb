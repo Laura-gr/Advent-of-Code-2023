{
 "cells": [
  {
   "cell_type": "code",
   "execution_count": 51,
   "metadata": {},
   "outputs": [],
   "source": [
    "import numpy as np\n",
    "import re\n",
    "\n",
    "test_file='December7_test.txt'\n",
    "full_file='December7_input.csv'\n"
   ]
  },
  {
   "cell_type": "code",
   "execution_count": 52,
   "metadata": {},
   "outputs": [],
   "source": [
    "with open(full_file) as file :\n",
    "    l=file.readlines()\n",
    "    doc=[[i.split()[0], int(i.split()[1])] for i in l]\n",
    "\n"
   ]
  },
  {
   "cell_type": "code",
   "execution_count": 53,
   "metadata": {},
   "outputs": [],
   "source": [
    "class main_camel_game:\n",
    "    def __init__(self,entree,joker=False):\n",
    "        self.hand = entree[0]\n",
    "        self.bid = entree[1]\n",
    "        self.type=self.type_of_hand()\n",
    "        self.with_joker=joker\n",
    "        self.improved=self.meilleure_main()\n",
    "\n",
    "        \n",
    "\n",
    "    def meilleure_main(self):\n",
    "        comb_order = ['Five', 'Four','Full','Three', '2 pairs', 'Pair', 'High'][::-1]\n",
    "        new_card_order=['A','K','Q','T','9','8','7','6','5','4','3','2','J'][::-1]\n",
    "\n",
    "        if 'J' not in self.hand :\n",
    "            return self.type\n",
    "        else :\n",
    "            res=self.type\n",
    "            for k in new_card_order[1:]:\n",
    "                x=self.hand\n",
    "                y=self.bid\n",
    "                s=main_camel_game([x.replace('J',k),y])\n",
    "                if comb_order.index(res) < comb_order.index(s.type) :\n",
    "                    res=s.type\n",
    "            return res\n",
    "                \n",
    "    def type_of_hand(self):\n",
    "        chars=set(x for x in self.hand)\n",
    "        info=dict(zip(list(chars),[self.hand.count(x) for x in chars]))\n",
    "\n",
    "        if 5 in info.values():\n",
    "            return 'Five'\n",
    "    \n",
    "        elif 4 in info.values():\n",
    "            return 'Four'\n",
    "    \n",
    "        elif 3 in info.values() and 2 in info.values():\n",
    "            return 'Full'\n",
    "    \n",
    "        elif 3 in info.values() and 1 in info.values():\n",
    "            return 'Three'\n",
    "    \n",
    "        elif sorted(list((info.values())))==[1,2,2]:\n",
    "            return '2 pairs'\n",
    "    \n",
    "        elif 2 in info.values():\n",
    "            return 'Pair'\n",
    "        else :\n",
    "            return 'High'\n",
    "\n",
    "    def __lt__(self,other):\n",
    "        if self.with_joker :\n",
    "            new_card_order=['A','K','Q','T','9','8','7','6','5','4','3','2','J'][::-1]\n",
    "            comb_order = ['Five', 'Four','Full','Three', '2 pairs', 'Pair', 'High'][::-1]\n",
    "            \n",
    "            if comb_order.index(self.improved) > comb_order.index(other.improved):\n",
    "                return False\n",
    "        \n",
    "            if comb_order.index(self.improved) < comb_order.index(other.improved):\n",
    "                return True\n",
    "        \n",
    "            if comb_order.index(self.improved) == comb_order.index(other.improved):\n",
    "\n",
    "                for i in range(len(self.hand)):\n",
    "                    if self.hand[i]!=other.hand[i] :\n",
    "                        return new_card_order.index(self.hand[i]) < new_card_order.index(other.hand[i])\n",
    "                    else:\n",
    "                        pass\n",
    "\n",
    "        \n",
    "        else :\n",
    "            card_order = ['A','K','Q','J','T','9','8','7','6','5','4','3','2'][::-1]\n",
    "            comb_order = ['Five', 'Four','Full','Three', '2 pairs', 'Pair', 'High'][::-1]\n",
    "        \n",
    "        \n",
    "            if comb_order.index(self.type_of_hand()) > comb_order.index(other.type_of_hand()):\n",
    "                return False\n",
    "        \n",
    "            if comb_order.index(self.type_of_hand()) < comb_order.index(other.type_of_hand()):\n",
    "                return True\n",
    "        \n",
    "            if comb_order.index(self.type_of_hand()) == comb_order.index(other.type_of_hand()):\n",
    "\n",
    "                for i in range(len(self.hand)):\n",
    "                    if self.hand[i]!=other.hand[i] :\n",
    "                        return card_order.index(self.hand[i]) < card_order.index(other.hand[i])\n",
    "                    else:\n",
    "                        pass\n",
    "\n"
   ]
  },
  {
   "cell_type": "markdown",
   "metadata": {},
   "source": [
    "Answer to part 1"
   ]
  },
  {
   "cell_type": "code",
   "execution_count": 54,
   "metadata": {},
   "outputs": [
    {
     "name": "stdout",
     "output_type": "stream",
     "text": [
      "253933213\n"
     ]
    }
   ],
   "source": [
    "mains = [main_camel_game(x) for x in doc]\n",
    "mains_triees=sorted(mains)\n",
    "\n",
    "res=0\n",
    "for x in mains_triees:\n",
    "    res+= x.bid * (mains_triees.index(x)+1)\n",
    "\n",
    "print(res)\n",
    "    "
   ]
  },
  {
   "cell_type": "markdown",
   "metadata": {},
   "source": [
    "Answer to part 2"
   ]
  },
  {
   "cell_type": "code",
   "execution_count": 56,
   "metadata": {},
   "outputs": [
    {
     "name": "stdout",
     "output_type": "stream",
     "text": [
      "253473930\n"
     ]
    }
   ],
   "source": [
    "mains_J = [main_camel_game(x,joker=True) for x in doc]\n",
    "mains_J_triees=sorted(mains_J)\n",
    "\n",
    "res=0\n",
    "for x in mains_J_triees:\n",
    "    res+= x.bid * (mains_J_triees.index(x)+1)\n",
    "\n",
    "print(res)\n",
    "    "
   ]
  },
  {
   "cell_type": "code",
   "execution_count": null,
   "metadata": {},
   "outputs": [],
   "source": []
  }
 ],
 "metadata": {
  "kernelspec": {
   "display_name": "Python 3",
   "language": "python",
   "name": "python3"
  },
  "language_info": {
   "codemirror_mode": {
    "name": "ipython",
    "version": 3
   },
   "file_extension": ".py",
   "mimetype": "text/x-python",
   "name": "python",
   "nbconvert_exporter": "python",
   "pygments_lexer": "ipython3",
   "version": "3.9.0"
  }
 },
 "nbformat": 4,
 "nbformat_minor": 2
}
