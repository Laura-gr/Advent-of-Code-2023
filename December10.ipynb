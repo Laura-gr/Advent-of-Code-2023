{
 "cells": [
  {
   "cell_type": "code",
   "execution_count": 37,
   "metadata": {},
   "outputs": [],
   "source": [
    "test_input='December10_test_input.txt'\n",
    "with open(test_input) as f :\n",
    "    file=f.readlines()\n",
    "    test_doc=[x.strip() for x in file]\n"
   ]
  },
  {
   "cell_type": "code",
   "execution_count": 38,
   "metadata": {},
   "outputs": [],
   "source": [
    "full_input='December10_full.txt'\n",
    "\n",
    "with open(full_input) as f :\n",
    "    file=f.readlines()\n",
    "    full_doc=[x.strip() for x in file]"
   ]
  },
  {
   "cell_type": "code",
   "execution_count": 39,
   "metadata": {},
   "outputs": [],
   "source": [
    "entries = { 'L' : ['S', 'W'], '|' : ['N', 'S'], '-': ['W', 'E'], 'J': ['S', 'E'], '7': ['N', 'E'], 'F':['N','W'] }\n",
    "exits={'L': ['E', 'N'], '|':['N', 'S'], '-':['W', 'E'], 'J':['W', 'N'], '7': ['W','S'], 'F':['E','S']}"
   ]
  },
  {
   "cell_type": "code",
   "execution_count": 40,
   "metadata": {},
   "outputs": [],
   "source": [
    "def find_start(lol):\n",
    "    for line_number, line in enumerate(lol):\n",
    "        for col_number, char in enumerate(line):\n",
    "            if char=='S':\n",
    "                return ([line_number, col_number],'S',None)\n",
    "\n",
    "\n",
    "def one_step(current_coords,lol):\n",
    "\n",
    "    line_number=current_coords[0][0]\n",
    "    col_number=current_coords[0][1]\n",
    "\n",
    "    current_symbol=current_coords[1]\n",
    "\n",
    "    entry_direction=current_coords[2]\n",
    "    \n",
    "\n",
    "    if current_symbol=='S':\n",
    "\n",
    "        if lol[line_number][col_number+1] in entries.keys() and 'E' in entries[lol[line_number][col_number+1]]:\n",
    "\n",
    "            next_coords= ([line_number,col_number+1], lol[line_number][col_number+1], 'E')\n",
    "            \n",
    "\n",
    "        elif lol[line_number+1][col_number] in entries.keys() and line_number+1 and 'S' in entries[lol[line_number+1][col_number]]:\n",
    "\n",
    "            next_coords= ([line_number+1,col_number],lol[line_number+1][col_number],'S')\n",
    "        \n",
    "        elif lol[line_number][col_number-1] in entries.keys() and 'W' in entries[lol[line_number][col_number-1]]:\n",
    "\n",
    "            next_coords= ([line_number,col_number-1],lol[line_number][col_number-1],'W')\n",
    "\n",
    "            \n",
    "        elif lol[line_number-1][col_number] in entries.keys() and 'N' in entries[lol[line_number-1][col_number]]:\n",
    "\n",
    "            next_coords= ([line_number-1,col_number,lol[line_number-1][col_number]],'N')\n",
    "        \n",
    "        return next_coords\n",
    "\n",
    "    else :\n",
    "        n= entries[current_symbol].index(entry_direction)\n",
    "        exit_direction=exits[current_symbol][n]\n",
    "\n",
    "        if exit_direction == 'N':\n",
    "            new_col_number = col_number\n",
    "            new_line_number = line_number -1\n",
    "        \n",
    "        if exit_direction =='S' :\n",
    "            new_col_number = col_number\n",
    "            new_line_number = line_number +1\n",
    "        \n",
    "        if exit_direction == 'E' :\n",
    "            new_col_number = col_number +1\n",
    "            new_line_number = line_number\n",
    "        \n",
    "        if exit_direction == 'W':\n",
    "            new_col_number = col_number -1\n",
    "            new_line_number = line_number\n",
    "        \n",
    "        return [[new_line_number,new_col_number], lol[new_line_number][new_col_number],exit_direction]\n",
    "        \n",
    "        \n",
    "    "
   ]
  },
  {
   "cell_type": "markdown",
   "metadata": {},
   "source": [
    "Answer to part 1"
   ]
  },
  {
   "cell_type": "code",
   "execution_count": 41,
   "metadata": {},
   "outputs": [
    {
     "data": {
      "text/plain": [
       "7086.0"
      ]
     },
     "execution_count": 41,
     "metadata": {},
     "output_type": "execute_result"
    }
   ],
   "source": [
    "steps=0\n",
    "current=find_start(full_doc)\n",
    "while one_step(current, full_doc)[1] !='S':\n",
    "    current=one_step(current,full_doc)\n",
    "    steps+=1\n",
    "\n",
    "(steps+1)/2\n"
   ]
  },
  {
   "cell_type": "markdown",
   "metadata": {},
   "source": [
    "Attempts to part 2"
   ]
  },
  {
   "cell_type": "code",
   "execution_count": 42,
   "metadata": {},
   "outputs": [
    {
     "name": "stdout",
     "output_type": "stream",
     "text": [
      "7086\n"
     ]
    }
   ],
   "source": [
    "steps=0\n",
    "current=find_start(full_doc)\n",
    "\n",
    "lines_visited={}\n",
    "cols_visited={}\n",
    "path=[]\n",
    "\n",
    "while one_step(current, full_doc)[1] !='S':\n",
    "    if current[0][0] not in lines_visited :\n",
    "        lines_visited[current[0][0]]=[]\n",
    "        lines_visited[current[0][0]].append((current[0][1],current[1]))\n",
    "    else:\n",
    "        lines_visited[current[0][0]].append((current[0][1],current[1]))\n",
    "    \n",
    "    if current[0][1] not in cols_visited :\n",
    "        cols_visited[current[0][1]]=[]\n",
    "        cols_visited[current[0][1]].append((current[0][0],current[1]))\n",
    "    else:\n",
    "        cols_visited[current[0][1]].append((current[0][0],current[1]))\n",
    "\n",
    "    path.append((current[0][0],current[0][1]))\n",
    "    current=one_step(current,full_doc)\n",
    "    steps+=1\n",
    "\n",
    "    \n",
    "print(int((steps+1)/2))\n"
   ]
  },
  {
   "cell_type": "code",
   "execution_count": 48,
   "metadata": {},
   "outputs": [],
   "source": [
    "min_lin=min([x for x in lines_visited])\n",
    "max_lin=max([x for x in lines_visited])\n",
    "\n",
    "min_cols=min([x for x in cols_visited])\n",
    "max_cols=max([x for x in cols_visited])\n"
   ]
  }
 ],
 "metadata": {
  "kernelspec": {
   "display_name": "Python 3",
   "language": "python",
   "name": "python3"
  },
  "language_info": {
   "codemirror_mode": {
    "name": "ipython",
    "version": 3
   },
   "file_extension": ".py",
   "mimetype": "text/x-python",
   "name": "python",
   "nbconvert_exporter": "python",
   "pygments_lexer": "ipython3",
   "version": "3.9.0"
  }
 },
 "nbformat": 4,
 "nbformat_minor": 2
}
