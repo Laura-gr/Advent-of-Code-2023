{
 "cells": [
  {
   "cell_type": "code",
   "execution_count": 99,
   "metadata": {},
   "outputs": [],
   "source": [
    "test_input='December11_test.txt'\n",
    "full_input='December11_full_input.txt'\n",
    "with open(full_input) as f :\n",
    "    file=f.readlines()\n",
    "    lol=[x.strip() for x in file]\n"
   ]
  },
  {
   "cell_type": "code",
   "execution_count": 107,
   "metadata": {},
   "outputs": [],
   "source": [
    "def galaxy_encoded(lol) :\n",
    "\n",
    "    line_dict={line_number:[] for line_number, line in enumerate(lol)}\n",
    "    cols_dict={col_number :[] for col_number,symbol in enumerate(lol[0])}\n",
    "    coords_galaxies=[]\n",
    "\n",
    "    for line_number, line in enumerate(lol) :\n",
    "\n",
    "        for col_number, symb in enumerate(line) :\n",
    "\n",
    "            if symb=='#':\n",
    "                line_dict[line_number].append(col_number)\n",
    "                cols_dict[col_number].append(line_number)\n",
    "                coords_galaxies.append([line_number,col_number])\n",
    "    \n",
    "    return line_dict, cols_dict, coords_galaxies\n",
    "\n",
    "\n",
    "\n",
    "def galaxy_distance(galaxy1, galaxy2, line_dict, cols_dict):\n",
    "    l1=min(galaxy1[0],galaxy2[0])\n",
    "    c1=min(galaxy1[1],galaxy2[1])\n",
    "    l2=max(galaxy1[0],galaxy2[0])\n",
    "    c2=max(galaxy1[1],galaxy2[1])\n",
    "\n",
    "\n",
    "    line_expansion=len([x for x in range(l1,l2+1) if line_dict[x]==[]])\n",
    "    col_expansion=len([y for y in range(c1,c2+1) if cols_dict[y]==[]])\n",
    "\n",
    "    return abs(l1-l2)+abs(c1-c2)+line_expansion + col_expansion        \n",
    "  "
   ]
  },
  {
   "cell_type": "markdown",
   "metadata": {},
   "source": [
    "Answer for part 1"
   ]
  },
  {
   "cell_type": "code",
   "execution_count": 108,
   "metadata": {},
   "outputs": [
    {
     "data": {
      "text/plain": [
       "9214785"
      ]
     },
     "execution_count": 108,
     "metadata": {},
     "output_type": "execute_result"
    }
   ],
   "source": [
    "Galaxy_lines, Galaxy_cols, Galaxy_coordinates = galaxy_encoded(lol)\n",
    "d=0\n",
    "\n",
    "for galaxy_number, galaxy_coordinates in enumerate(Galaxy_coordinates[:-1]) :\n",
    "    for next_galaxy in Galaxy_coordinates[galaxy_number +1: ]:\n",
    "        d+= galaxy_distance(galaxy_coordinates,next_galaxy,Galaxy_lines,Galaxy_cols)\n",
    "\n",
    "d"
   ]
  },
  {
   "cell_type": "markdown",
   "metadata": {},
   "source": [
    "Answer for part 2\n"
   ]
  },
  {
   "cell_type": "code",
   "execution_count": 109,
   "metadata": {},
   "outputs": [],
   "source": [
    "def extra_old_galaxy_distance(galaxy1, galaxy2, line_dict, cols_dict):\n",
    "    l1=min(galaxy1[0],galaxy2[0])\n",
    "    c1=min(galaxy1[1],galaxy2[1])\n",
    "    l2=max(galaxy1[0],galaxy2[0])\n",
    "    c2=max(galaxy1[1],galaxy2[1])\n",
    "\n",
    "\n",
    "    line_expansion=len([x for x in range(l1,l2+1) if line_dict[x]==[]])\n",
    "    col_expansion=len([y for y in range(c1,c2+1) if cols_dict[y]==[]])\n",
    "\n",
    "    return abs(l1-l2)+abs(c1-c2)+(1000000-1)*line_expansion + (1000000-1)*col_expansion        "
   ]
  },
  {
   "cell_type": "code",
   "execution_count": 110,
   "metadata": {},
   "outputs": [
    {
     "data": {
      "text/plain": [
       "613686987427"
      ]
     },
     "execution_count": 110,
     "metadata": {},
     "output_type": "execute_result"
    }
   ],
   "source": [
    "Galaxy_lines, Galaxy_cols, Galaxy_coordinates = galaxy_encoded(lol)\n",
    "d=0\n",
    "\n",
    "for galaxy_number, galaxy_coordinates in enumerate(Galaxy_coordinates[:-1]) :\n",
    "    for next_galaxy in Galaxy_coordinates[galaxy_number +1: ]:\n",
    "        d+= extra_old_galaxy_distance(galaxy_coordinates,next_galaxy,Galaxy_lines,Galaxy_cols)\n",
    "\n",
    "d"
   ]
  }
 ],
 "metadata": {
  "kernelspec": {
   "display_name": "Python 3",
   "language": "python",
   "name": "python3"
  },
  "language_info": {
   "codemirror_mode": {
    "name": "ipython",
    "version": 3
   },
   "file_extension": ".py",
   "mimetype": "text/x-python",
   "name": "python",
   "nbconvert_exporter": "python",
   "pygments_lexer": "ipython3",
   "version": "3.9.0"
  }
 },
 "nbformat": 4,
 "nbformat_minor": 2
}
