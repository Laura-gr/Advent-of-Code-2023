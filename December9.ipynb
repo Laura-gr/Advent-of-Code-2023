{
 "cells": [
  {
   "cell_type": "code",
   "execution_count": 62,
   "metadata": {},
   "outputs": [],
   "source": [
    "input='December9_input.txt'\n",
    "\n",
    "with open(input) as f :\n",
    "    file=f.readlines()\n",
    "    doc=[[int(x) for x in i.split()] for i in file]\n"
   ]
  },
  {
   "cell_type": "code",
   "execution_count": 63,
   "metadata": {},
   "outputs": [],
   "source": [
    "test='December9_test.txt'\n",
    "with open(test) as f :\n",
    "    file=f.readlines()\n",
    "    doc_test=[[int(x) for x in i.split()] for i in file]\n"
   ]
  },
  {
   "cell_type": "code",
   "execution_count": 64,
   "metadata": {},
   "outputs": [],
   "source": [
    "class triangle:\n",
    "    \n",
    "    def __init__(self,L):\n",
    "        k=len(L)\n",
    "        self.niveaux={ x : [] for x in range(k)}\n",
    "        self.niveaux[0]=L\n",
    "        self.prof_max=len(L)\n",
    "        self.profondeur=self.diff_all()\n",
    "        \n",
    "    def diff(self,niv):\n",
    "        self.niveaux[niv+1]=[a-b for a, b  in zip(self.niveaux[niv][1:],self.niveaux[niv][:-1])]\n",
    "\n",
    "    def diff_all(self):\n",
    "        c=0\n",
    "        while set(self.niveaux[c])!={0} and c <= self.prof_max :\n",
    "            self.diff(c)\n",
    "            c+=1\n",
    "        return c+1\n",
    "    \n",
    "    def populate_all_n_times_right(self,n=1):\n",
    "        if n<=0 :\n",
    "            raise ValueError('Vraiment inutile... ou carrément pas de sens')\n",
    "        else:\n",
    "            for iter in range(n):\n",
    "                for k in range(self.profondeur)[::-1]:\n",
    "                    if k==self.profondeur-1:\n",
    "                        self.niveaux[k].append(0)\n",
    "                    else :\n",
    "                        self.niveaux[k].append(self.niveaux[k+1][-1]+self.niveaux[k][-1])\n",
    "\n",
    "    def populate_all_n_times_left(self,n=1):\n",
    "        if n<=0 :\n",
    "            raise ValueError('Vraiment inutile... ou carrément pas de sens')\n",
    "        else:\n",
    "            for iter in range(n):\n",
    "                for k in range(self.profondeur)[::-1]:\n",
    "                    if k==self.profondeur-1:\n",
    "                        self.niveaux[k].insert(0,0)\n",
    "                    else :\n",
    "                        self.niveaux[k].insert(0,-self.niveaux[k+1][0]+self.niveaux[k][0])\n",
    "\n",
    "\n",
    "            "
   ]
  },
  {
   "cell_type": "markdown",
   "metadata": {},
   "source": [
    "Answer to part 1"
   ]
  },
  {
   "cell_type": "code",
   "execution_count": 65,
   "metadata": {},
   "outputs": [
    {
     "data": {
      "text/plain": [
       "1974913025"
      ]
     },
     "execution_count": 65,
     "metadata": {},
     "output_type": "execute_result"
    }
   ],
   "source": [
    "res_total=0\n",
    "\n",
    "for a in [triangle(x) for x in doc]:\n",
    "    a.populate_all_n_times_right(1)\n",
    "    res_total+=a.niveaux[0][-1]\n",
    "\n",
    "res_total"
   ]
  },
  {
   "cell_type": "markdown",
   "metadata": {},
   "source": [
    "Answer to part 2"
   ]
  },
  {
   "cell_type": "code",
   "execution_count": 66,
   "metadata": {},
   "outputs": [
    {
     "data": {
      "text/plain": [
       "884"
      ]
     },
     "execution_count": 66,
     "metadata": {},
     "output_type": "execute_result"
    }
   ],
   "source": [
    "res_total=0\n",
    "\n",
    "for a in [triangle(x) for x in doc]:\n",
    "    a.populate_all_n_times_left(1)\n",
    "    res_total+=a.niveaux[0][0]\n",
    "\n",
    "res_total"
   ]
  }
 ],
 "metadata": {
  "kernelspec": {
   "display_name": "Python 3",
   "language": "python",
   "name": "python3"
  },
  "language_info": {
   "codemirror_mode": {
    "name": "ipython",
    "version": 3
   },
   "file_extension": ".py",
   "mimetype": "text/x-python",
   "name": "python",
   "nbconvert_exporter": "python",
   "pygments_lexer": "ipython3",
   "version": "3.9.0"
  }
 },
 "nbformat": 4,
 "nbformat_minor": 2
}
