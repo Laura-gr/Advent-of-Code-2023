{
 "cells": [
  {
   "cell_type": "code",
   "execution_count": 112,
   "metadata": {},
   "outputs": [],
   "source": [
    "test_input='December14_test_input.txt'\n",
    "\n",
    "full_input='December14_full_input.txt'\n",
    "\n",
    "def import_input(file_name):\n",
    "    with open(file_name) as f :\n",
    "        file=f.readlines()\n",
    "        lines=[x.strip() for x in file]\n",
    "        cols=[''.join(x) for x in list(zip(*list(lines)))]\n",
    "    return lines, cols \n",
    "\n",
    "test_lines, test_cols=import_input(test_input)\n",
    "full_lines, full_cols=import_input(full_input)\n",
    "\n"
   ]
  },
  {
   "cell_type": "code",
   "execution_count": 113,
   "metadata": {},
   "outputs": [],
   "source": [
    "def turn(los):\n",
    "    return [''.join(x) for x in list(zip(*list(los)))]"
   ]
  },
  {
   "cell_type": "code",
   "execution_count": 114,
   "metadata": {},
   "outputs": [],
   "source": [
    "def split_columns(los):\n",
    "    \n",
    "    parts_of_col=[]\n",
    "    for x in los:\n",
    "        parts_of_col.append(x.split('#'))\n",
    "    return parts_of_col\n",
    "\n",
    "def split_lines(los):\n",
    "    parts_of_lines=[]\n",
    "    for x in los:\n",
    "        parts_of_lines.append(x.split('#'))\n",
    "    return parts_of_lines\n"
   ]
  },
  {
   "cell_type": "code",
   "execution_count": 115,
   "metadata": {},
   "outputs": [],
   "source": [
    "def tilt_north(lol):\n",
    "    parts_of_col=split_columns(lol)\n",
    "    new_cols=parts_of_col.copy()\n",
    "\n",
    "    for col_number, col in enumerate(new_cols):\n",
    "        for part_number, part in enumerate(col) :\n",
    "            l=len(part)\n",
    "            a=part.count('O')\n",
    "            col[part_number]='O'*a+'.'*(l-a)\n",
    "\n",
    "    new_cols_bis=['#'.join(x) for x in new_cols]\n",
    "\n",
    "    return new_cols_bis\n",
    "\n",
    "def tilt_south(lol):\n",
    "    parts_of_col=split_columns(lol)\n",
    "    new_cols=parts_of_col.copy()\n",
    "\n",
    "    for col_number, col in enumerate(new_cols):\n",
    "        for part_number, part in enumerate(col) :\n",
    "            l=len(part)\n",
    "            a=part.count('O')\n",
    "            col[part_number]='.'*(l-a)+'O'*a\n",
    "\n",
    "    new_cols_bis=['#'.join(x) for x in new_cols]\n",
    "\n",
    "    return new_cols_bis\n",
    "\n",
    "def tilt_west(lol):\n",
    "    parts_of_lines=split_lines(lol)\n",
    "    new_lines=parts_of_lines.copy()\n",
    "\n",
    "    for line_number, line in enumerate(new_lines):\n",
    "        for part_number, part in enumerate(line) :\n",
    "            l=len(part)\n",
    "            a=part.count('O')\n",
    "            line[part_number]='O'*a+'.'*(l-a)\n",
    "\n",
    "    new_lines_bis=['#'.join(x) for x in new_lines]\n",
    "\n",
    "    return new_lines_bis\n",
    "\n",
    "def tilt_east(lol):\n",
    "    parts_of_lines=split_lines(lol)\n",
    "    new_lines=parts_of_lines.copy()\n",
    "\n",
    "    for line_number, line in enumerate(new_lines):\n",
    "        for part_number, part in enumerate(line) :\n",
    "            l=len(part)\n",
    "            a=part.count('O')\n",
    "            line[part_number]='.'*(l-a)+'O'*a\n",
    "\n",
    "    new_lines_bis=['#'.join(x) for x in new_lines]\n",
    "\n",
    "    return new_lines_bis\n",
    "\n",
    "\n",
    "\n"
   ]
  },
  {
   "cell_type": "code",
   "execution_count": 116,
   "metadata": {},
   "outputs": [],
   "source": [
    "def load_north(los):\n",
    "    load=0\n",
    "    l=len(los[0])\n",
    "    for col in los:\n",
    "        for pos, char in enumerate(col) :\n",
    "            if char=='O':\n",
    "                load+=l-pos\n",
    "    return load\n"
   ]
  },
  {
   "cell_type": "markdown",
   "metadata": {},
   "source": [
    "Answer to part 1"
   ]
  },
  {
   "cell_type": "code",
   "execution_count": 117,
   "metadata": {},
   "outputs": [
    {
     "data": {
      "text/plain": [
       "108889"
      ]
     },
     "execution_count": 117,
     "metadata": {},
     "output_type": "execute_result"
    }
   ],
   "source": [
    "load_north(tilt_north(full_cols))"
   ]
  },
  {
   "cell_type": "markdown",
   "metadata": {},
   "source": [
    "Answer to part 2"
   ]
  },
  {
   "cell_type": "code",
   "execution_count": 118,
   "metadata": {},
   "outputs": [
    {
     "name": "stdout",
     "output_type": "stream",
     "text": [
      "We start looping at 138 and the length of the period is  14\n"
     ]
    }
   ],
   "source": [
    "### Determining when we start looping in the positions\n",
    "temp=full_cols\n",
    "pos=[]\n",
    "for k in range(1000):\n",
    "    temp=tilt_north(temp)\n",
    "    temp=turn(temp)\n",
    "    temp=tilt_west(temp)\n",
    "    temp=turn(temp)\n",
    "    temp=tilt_south(temp)\n",
    "    temp=turn(temp)\n",
    "    temp=tilt_east(temp)\n",
    "    temp=turn(temp)\n",
    "    if temp not in pos:\n",
    "        pos.append(temp)\n",
    "    else:\n",
    "        print('We start looping at', pos.index(temp),'and the length of the period is ', k-pos.index(temp))\n",
    "        break\n",
    "    \n"
   ]
  },
  {
   "cell_type": "code",
   "execution_count": 123,
   "metadata": {},
   "outputs": [
    {
     "data": {
      "text/plain": [
       "104671"
      ]
     },
     "execution_count": 123,
     "metadata": {},
     "output_type": "execute_result"
    }
   ],
   "source": [
    "##### We therefore compute the load at (1000000000-start_loop) % period + start_loop\n",
    "temp=full_cols\n",
    "\n",
    "load=0\n",
    "for k in range((1000000000-138)%14+138):\n",
    "    temp=tilt_north(temp)\n",
    "    temp=turn(temp)\n",
    "    temp=tilt_west(temp)\n",
    "    temp=turn(temp)\n",
    "    temp=tilt_south(temp)\n",
    "    temp=turn(temp)\n",
    "    temp=tilt_east(temp)\n",
    "    temp=turn(temp)\n",
    "\n",
    "load_north(temp)\n"
   ]
  }
 ],
 "metadata": {
  "kernelspec": {
   "display_name": "Python 3",
   "language": "python",
   "name": "python3"
  },
  "language_info": {
   "codemirror_mode": {
    "name": "ipython",
    "version": 3
   },
   "file_extension": ".py",
   "mimetype": "text/x-python",
   "name": "python",
   "nbconvert_exporter": "python",
   "pygments_lexer": "ipython3",
   "version": "3.12.0"
  }
 },
 "nbformat": 4,
 "nbformat_minor": 2
}
