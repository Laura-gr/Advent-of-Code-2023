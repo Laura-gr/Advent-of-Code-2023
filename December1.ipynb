{
 "cells": [
  {
   "cell_type": "code",
   "execution_count": 14,
   "metadata": {},
   "outputs": [],
   "source": [
    "import pandas as pd\n",
    "import numpy as np\n",
    "import re "
   ]
  },
  {
   "cell_type": "markdown",
   "metadata": {},
   "source": [
    "Decembre 1st"
   ]
  },
  {
   "cell_type": "code",
   "execution_count": 15,
   "metadata": {},
   "outputs": [],
   "source": [
    "def pull_all_digits_from_string(line) :\n",
    "    list=re.findall('\\d', line)\n",
    "    s=''\n",
    "    for i in list :\n",
    "        s += i\n",
    "    return s\n",
    "    \n",
    "def pull_string_digits_from_doc(doc) :\n",
    "    file=np.loadtxt(doc, dtype=str)\n",
    "    list=[]\n",
    "    for item in file :\n",
    "        list.append(pull_all_digits_from_string(item))\n",
    "    return list\n",
    "\n",
    "\n",
    "def first_and_last(list) :\n",
    "    L=[]\n",
    "    for i in list :\n",
    "            s=i[0]+i[-1]\n",
    "            L.append(int(s))\n",
    "    return L"
   ]
  },
  {
   "cell_type": "markdown",
   "metadata": {},
   "source": [
    "Answer to part 1\n"
   ]
  },
  {
   "cell_type": "code",
   "execution_count": 16,
   "metadata": {},
   "outputs": [
    {
     "name": "stdout",
     "output_type": "stream",
     "text": [
      "54630\n"
     ]
    }
   ],
   "source": [
    "x=0\n",
    "for i in first_and_last(pull_string_digits_from_doc('December1.txt')):\n",
    "    x+=i\n",
    "\n",
    "print(x)"
   ]
  },
  {
   "cell_type": "code",
   "execution_count": 17,
   "metadata": {},
   "outputs": [],
   "source": [
    "\n",
    "numbers={'one':1, 'two':2, 'six': 6,'four':4, 'five':5, 'nine':9,'three':3, 'seven' : 7, 'eight':8, 'nine':9}\n",
    "\n",
    "list_numbers=['one','two', 'three','four','five','six','seven','eight','nine']\n",
    "    "
   ]
  },
  {
   "cell_type": "code",
   "execution_count": 18,
   "metadata": {},
   "outputs": [],
   "source": [
    "def give_first_number_to_replace(string):\n",
    "    L=[]\n",
    "    for number in list_numbers :\n",
    "        x=[a for a in re.finditer(number,string)]\n",
    "        if x!=[] :\n",
    "            starts=[a.start() for a in x]\n",
    "            ends=[b.end() for b in x]\n",
    "            L.append([starts[0],ends[0]])\n",
    "    \n",
    "    if L==[]:\n",
    "        return L\n",
    "    return min(L)\n",
    "\n",
    "def give_last_number_to_replace(string):\n",
    "    L=[]\n",
    "    for number in list_numbers :\n",
    "        x=[a for a in re.finditer(number,string)]\n",
    "        if x!=[] :\n",
    "            starts=[a.start() for a in x]\n",
    "            ends=[b.end() for b in x]\n",
    "            L.append([starts[-1],ends[-1]])\n",
    "    if L==[]:\n",
    "        return L\n",
    "    return max(L)\n"
   ]
  },
  {
   "cell_type": "code",
   "execution_count": 19,
   "metadata": {},
   "outputs": [],
   "source": [
    "def replace_first_number_letters(string):\n",
    "    if give_first_number_to_replace(string)==[]:\n",
    "        return string \n",
    "    else :\n",
    "        start=give_first_number_to_replace(string)[0]\n",
    "        end=give_first_number_to_replace(string)[1]\n",
    "\n",
    "        for key in numbers.keys():\n",
    "            if string[start:end]==key :\n",
    "                string=string[0:start+1]+str(numbers[key])+string[end-1:len(string)]\n",
    "        return string\n",
    "\n",
    "\n",
    "def replace_last_number_letters(string):\n",
    "    if give_last_number_to_replace(string)==[]:\n",
    "        return string\n",
    "    else : \n",
    "        start=give_last_number_to_replace(string)[0]\n",
    "        end=give_last_number_to_replace(string)[1]\n",
    "\n",
    "        for key in numbers.keys():\n",
    "            if string[start:end]==key :\n",
    "                string=string[0:start+1]+str(numbers[key])+string[end-1:len(string)+1]\n",
    "        return string\n",
    "\n",
    "def replace_first_last_number_letters(string):\n",
    "    string=replace_first_number_letters(string)\n",
    "    string=replace_last_number_letters(string)\n",
    "    return string\n",
    "\n",
    "############## \n",
    "\n",
    "\n",
    "def extract_list_numbers_after_replacement(doc):\n",
    "    file=np.loadtxt(doc,dtype=str)\n",
    "    L=[]\n",
    "    for line in file :\n",
    "        L.append(replace_first_last_number_letters(line))\n",
    "    return L\n",
    "\n"
   ]
  },
  {
   "cell_type": "markdown",
   "metadata": {},
   "source": [
    "Answer to part 2"
   ]
  },
  {
   "cell_type": "code",
   "execution_count": 20,
   "metadata": {},
   "outputs": [
    {
     "name": "stdout",
     "output_type": "stream",
     "text": [
      "54770\n"
     ]
    }
   ],
   "source": [
    "x=0\n",
    "L=[]\n",
    "for i in first_and_last(pull_string_digits_from_doc(extract_list_numbers_after_replacement('December1.txt'))):\n",
    "    x+=i\n",
    "    L.append(x)\n",
    "\n",
    "print(x)"
   ]
  }
 ],
 "metadata": {
  "kernelspec": {
   "display_name": "Python 3",
   "language": "python",
   "name": "python3"
  },
  "language_info": {
   "codemirror_mode": {
    "name": "ipython",
    "version": 3
   },
   "file_extension": ".py",
   "mimetype": "text/x-python",
   "name": "python",
   "nbconvert_exporter": "python",
   "pygments_lexer": "ipython3",
   "version": "3.9.0"
  }
 },
 "nbformat": 4,
 "nbformat_minor": 2
}
